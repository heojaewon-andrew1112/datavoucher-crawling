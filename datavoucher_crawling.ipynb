{
 "cells": [
  {
   "cell_type": "code",
   "execution_count": 1,
   "id": "ef4358b7",
   "metadata": {},
   "outputs": [],
   "source": [
    "import requests\n",
    "from requests import get\n",
    "\n",
    "import urllib.request\n",
    "from urllib.request import urlopen\n",
    "from urllib.request import urlretrieve\n",
    "\n",
    "from selenium import webdriver\n",
    "from selenium.webdriver.common.by import By\n",
    "from selenium.webdriver.common.keys import Keys\n",
    "from selenium.common.exceptions import NoSuchElementException\n",
    "from selenium.webdriver.chrome.service import Service\n",
    "from webdriver_manager.chrome import ChromeDriverManager\n",
    "\n",
    "import time\n",
    "import os\n",
    "import pandas as pd\n",
    "from multiprocessing import Pool\n",
    "\n",
    "from io import BytesIO\n",
    "from PIL import Image"
   ]
  },
  {
   "cell_type": "code",
   "execution_count": 3,
   "id": "e29c6e1a",
   "metadata": {
    "scrolled": false
   },
   "outputs": [
    {
     "ename": "IndexError",
     "evalue": "list index out of range",
     "output_type": "error",
     "traceback": [
      "\u001b[1;31m---------------------------------------------------------------------------\u001b[0m",
      "\u001b[1;31mIndexError\u001b[0m                                Traceback (most recent call last)",
      "Cell \u001b[1;32mIn[3], line 56\u001b[0m\n\u001b[0;32m     53\u001b[0m page_bar \u001b[38;5;241m=\u001b[39m driver\u001b[38;5;241m.\u001b[39mfind_element(By\u001b[38;5;241m.\u001b[39mCSS_SELECTOR, \u001b[38;5;124m'\u001b[39m\u001b[38;5;124mdiv.pageing\u001b[39m\u001b[38;5;124m'\u001b[39m)\n\u001b[0;32m     54\u001b[0m pages \u001b[38;5;241m=\u001b[39m page_bar\u001b[38;5;241m.\u001b[39mfind_elements(By\u001b[38;5;241m.\u001b[39mCSS_SELECTOR, \u001b[38;5;124m'\u001b[39m\u001b[38;5;124ma\u001b[39m\u001b[38;5;124m'\u001b[39m)\n\u001b[1;32m---> 56\u001b[0m \u001b[43mpages\u001b[49m\u001b[43m[\u001b[49m\u001b[43mp\u001b[49m\u001b[43m]\u001b[49m\u001b[38;5;241m.\u001b[39msend_keys(Keys\u001b[38;5;241m.\u001b[39mENTER)\n\u001b[0;32m     57\u001b[0m driver\u001b[38;5;241m.\u001b[39mimplicitly_wait(\u001b[38;5;241m10\u001b[39m)\n\u001b[0;32m     58\u001b[0m time\u001b[38;5;241m.\u001b[39msleep(\u001b[38;5;241m1\u001b[39m)\n",
      "\u001b[1;31mIndexError\u001b[0m: list index out of range"
     ]
    }
   ],
   "source": [
    "url = 'https://kdata.or.kr/datavoucher/is/selectPortalSearch.do'\n",
    "\n",
    "options = webdriver.ChromeOptions() \n",
    "# options.add_argument('headless') \n",
    "options.add_argument(\"window-size=1920x1080\") \n",
    "options.add_argument('--no-sandbox')\n",
    "options.add_argument(\"--disable-dev-shm-usage\")\n",
    "options.add_argument(\"disable-gpu\") \n",
    "options.add_argument(\"--log-level=3\")\n",
    "options.add_experimental_option('excludeSwitches', ['enable-logging'])\n",
    "\n",
    "driver = webdriver.Chrome(options=options)\n",
    "\n",
    "driver.get(url)\n",
    "driver.implicitly_wait(10)\n",
    "\n",
    "driver.find_element(By.XPATH, '//*[@id=\"P01017006\"]').send_keys(Keys.ENTER)\n",
    "time.sleep(0.5)\n",
    "\n",
    "driver.find_element(By.XPATH, '//*[@id=\"frm\"]/div[2]/div/div/div/div[5]/a').send_keys(Keys.ENTER)\n",
    "time.sleep(0.5)\n",
    "\n",
    "company_name = []\n",
    "explanation_company = []\n",
    "company_phone = []\n",
    "company_location = []\n",
    "company_person = []\n",
    "company_email = []\n",
    "\n",
    "\n",
    "for i in range(1, 12):\n",
    "    for p in range(2, 12): \n",
    "        detail_aTags = driver.find_elements(By.CSS_SELECTOR, 'div#listType div.product_list div.contents a')\n",
    "        \n",
    "        for idx in range(len(detail_aTags)):\n",
    "            detail_aTags = driver.find_elements(By.CSS_SELECTOR, 'div#listType div.product_list div.contents a')\n",
    "           \n",
    "            detail_aTags[idx].send_keys(Keys.ENTER)\n",
    "            driver.implicitly_wait(10)\n",
    "            time.sleep(1)\n",
    "               \n",
    "            company_name.append(driver.find_element(By.CSS_SELECTOR, '#frm > div.sub_container > div > div > div > div.productSell_detail > div.productLeft_box > ul.left_item_01 > li:nth-child(1) > dl > dd').text)\n",
    "            explanation_company.append(driver.find_element(By.CSS_SELECTOR, '#frm > div.sub_container > div > div > div > div.productSell_detail > div.productLeft_box > ul.left_item_01 > li:nth-child(2) > dl > dd').text)\n",
    "            company_phone.append(driver.find_element(By.CSS_SELECTOR, '#frm > div.sub_container > div > div > div > div.productSell_detail > div.productLeft_box > ul.left_item_01 > li:nth-child(3) > dl > dd').text)\n",
    "            company_location.append(driver.find_element(By.CSS_SELECTOR, '#frm > div.sub_container > div > div > div > div.productSell_detail > div.productLeft_box > ul.left_item_01 > li:nth-child(4) > dl > dd').text)\n",
    "            company_person.append(driver.find_element(By.CSS_SELECTOR, '#frm > div.sub_container > div > div > div > div.productSell_detail > div.productLeft_box > ul.left_item_02 > li:nth-child(1) > dl > dd').text)\n",
    "            company_email.append(driver.find_element(By.CSS_SELECTOR, '#frm > div.sub_container > div > div > div > div.productSell_detail > div.productLeft_box > ul.left_item_02 > li:nth-child(2) > dl > dd').text)\n",
    "            \n",
    "            driver.back()\n",
    "            driver.implicitly_wait(10)            \n",
    "            time.sleep(1)\n",
    "            \n",
    "        page_bar = driver.find_element(By.CSS_SELECTOR, 'div.pageing')\n",
    "        pages = page_bar.find_elements(By.CSS_SELECTOR, 'a')\n",
    "        \n",
    "        pages[p].send_keys(Keys.ENTER)\n",
    "        driver.implicitly_wait(10)\n",
    "        time.sleep(1)"
   ]
  },
  {
   "cell_type": "code",
   "execution_count": 5,
   "id": "7b8a846c",
   "metadata": {},
   "outputs": [
    {
     "name": "stdout",
     "output_type": "stream",
     "text": [
      "<class 'pandas.core.frame.DataFrame'>\n",
      "RangeIndex: 645 entries, 0 to 644\n",
      "Data columns (total 6 columns):\n",
      " #   Column   Non-Null Count  Dtype \n",
      "---  ------   --------------  ----- \n",
      " 0   기업명(영문)  645 non-null    object\n",
      " 1   설립일      645 non-null    object\n",
      " 2   대표전화     645 non-null    object\n",
      " 3   사업장소재지   645 non-null    object\n",
      " 4   담당자연락처   645 non-null    object\n",
      " 5   이메일      645 non-null    object\n",
      "dtypes: object(6)\n",
      "memory usage: 30.4+ KB\n"
     ]
    }
   ],
   "source": [
    "import pandas as pd\n",
    "df = pd.DataFrame()\n",
    "df['기업명(영문)'] = company_name\n",
    "df['설립일'] = explanation_company \n",
    "df['대표전화'] = company_phone\n",
    "df['사업장소재지'] = company_location\n",
    "df['담당자연락처'] = company_person\n",
    "df['이메일'] = company_email\n",
    "\n",
    "df.info()"
   ]
  },
  {
   "cell_type": "code",
   "execution_count": 7,
   "id": "975ad1bb",
   "metadata": {},
   "outputs": [],
   "source": [
    "df.to_excel('./datavhoucher_crawling_20230726.xlsx', index = False)"
   ]
  }
 ],
 "metadata": {
  "kernelspec": {
   "display_name": "Python 3 (ipykernel)",
   "language": "python",
   "name": "python3"
  },
  "language_info": {
   "codemirror_mode": {
    "name": "ipython",
    "version": 3
   },
   "file_extension": ".py",
   "mimetype": "text/x-python",
   "name": "python",
   "nbconvert_exporter": "python",
   "pygments_lexer": "ipython3",
   "version": "3.10.9"
  }
 },
 "nbformat": 4,
 "nbformat_minor": 5
}
